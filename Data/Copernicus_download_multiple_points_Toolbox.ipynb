{
 "cells": [
  {
   "cell_type": "markdown",
   "id": "ea34eb27-f928-40e8-8078-0dd6cde760bc",
   "metadata": {},
   "source": [
    "# Download multiple points via the Copernicus Marine Toolbox"
   ]
  },
  {
   "cell_type": "markdown",
   "id": "9dcf63d1-9da0-42d5-87ad-b304307656e0",
   "metadata": {},
   "source": [
    "<div class=\"alert alert-block alert-info\">\n",
    "<b>Note:</b> This notebook will show you how to download variables for multiple points from one or several datasets via the <a href=\"https://help.marine.copernicus.eu/en/collections/4060068-copernicus-marine-toolbox\">Copernicus Marine Toolbox</a>, giving a CSV file as input.<br/>\n",
    "It follows the example from <a href=\"https://help.marine.copernicus.eu/en/articles/7970637-how-to-extract-multiple-points-from-a-csv\">this article</a>.\n",
    "</div>"
   ]
  },
  {
   "cell_type": "markdown",
   "id": "badb5ddf-55cc-44b5-b47d-ed5febea1842",
   "metadata": {},
   "source": [
    "In this tutorial, we will download the variables `uo` and `vo` from the following Mediterranean product and dataset:  \n",
    "\n",
    "- Product: [MEDSEA_MULTIYEAR_PHY_006_004](https://data.marine.copernicus.eu/product/MEDSEA_MULTIYEAR_PHY_006_004/description)  \n",
    "- Dataset: `med-cmcc-cur-rean-d`  \n",
    "\n",
    "Feel free to change the download parameters to get the variable(s) of interest.  \n",
    "From the same input CSV file, you can **download the same variable(s) from different datasets** by adding them to the `list_datasetID` (and their corresponding `output_names`).  \n",
    "\n",
    "Depending on what you have in the input file, you can download data for:  \n",
    "- a **single date**: output result is one `.csv` file (existing column `Date`)\n",
    "- a **timeseries**: output results are a `.csv` file per point by default but you can choose to save in `.nc` format (existing columns `Start` and `End`)"
   ]
  },
  {
   "cell_type": "markdown",
   "id": "2212fbad-48e5-4a87-907b-352bca369474",
   "metadata": {},
   "source": [
    "## Import libraries & functions"
   ]
  },
  {
   "cell_type": "markdown",
   "id": "f11b00c9-24c0-4ce5-af2b-28558c561fc7",
   "metadata": {},
   "source": [
    "We first import these libraries and define the `sort_dimension()` function to sort potential inverted axes:"
   ]
  },
  {
   "cell_type": "code",
   "execution_count": 1,
   "id": "98b57b39-6607-42f6-b64b-ad99ea73585e",
   "metadata": {},
   "outputs": [],
   "source": [
    "import os\n",
    "import pandas as pd\n",
    "import copernicusmarine"
   ]
  },
  {
   "cell_type": "code",
   "execution_count": 2,
   "id": "2ba2c03e-eec5-4bb8-bda6-d1cbe524c0e2",
   "metadata": {},
   "outputs": [],
   "source": [
    "def sort_dimension(dataset, dim_name):\n",
    "    \"\"\"\n",
    "    Get the values for the specified dimension and verify if they are unsorted. If so, the function sorts them.\n",
    "    \"\"\"\n",
    "    # Get the coordinate values for the specified dimension.\n",
    "    coordinates = dataset[dim_name].values\n",
    "\n",
    "    # Check if the coordinates are unsorted.\n",
    "    if (coordinates[0] >= coordinates[:-1]).all():\n",
    "        dataset = dataset.sortby(dim_name, ascending=True)\n",
    "        \n",
    "    return dataset"
   ]
  },
  {
   "cell_type": "markdown",
   "id": "ffc684ba-f78d-447e-b9ba-1667cdfa020e",
   "metadata": {},
   "source": [
    "<div class=\"alert alert-block alert-info\">\n",
    "<b>Note:</b> We have used versions <code>1.0.0</code> of the Copernicus Marine Toolbox and Python <code>3.11.6</code> <b>(don't use Python 3.12 or later!)</b>.<br/>\n",
    "More info on all packages and working environment used for running this notebook <a href=\"#Work-environment\">at the end</a>.\n",
    "</div>"
   ]
  },
  {
   "cell_type": "markdown",
   "id": "522a557f-c4c3-4f54-b928-f65d45499c60",
   "metadata": {},
   "source": [
    "## Create fake csv (optional)"
   ]
  },
  {
   "cell_type": "markdown",
   "id": "a8192252-4f9a-4830-82b2-3e84fec3f6af",
   "metadata": {},
   "source": [
    "This cell will create a csv with fake points in the Mediterranean Sea, for testing purpose:"
   ]
  },
  {
   "cell_type": "code",
   "execution_count": 3,
   "id": "1839bf51-d6e2-4d89-95a0-21eb4c1f2c8e",
   "metadata": {},
   "outputs": [],
   "source": [
    "import random\n",
    "\n",
    "# Number of fake points\n",
    "n = 10\n",
    "\n",
    "# Create fake points in Mediterranean Sea\n",
    "fake_lat = [(40 + 2 * random.random()) for i in range(n)]\n",
    "fake_lon = [(4 + 4 * random.random()) for i in range(n)]\n",
    "start_dates = [\"2020-01-01\"] * n\n",
    "end_dates = [\"2020-12-31\"] * n\n",
    "depth = [(5 * random.random()) for i in range(n)]\n",
    "date = \"2020-01-01\"\n",
    "\n",
    "# Create dataframe\n",
    "data = {'Latitude': fake_lat, 'Longitude': fake_lon, \n",
    "     'Start': start_dates, 'End': end_dates, \n",
    "     'Depth': depth, 'Date': date}\n",
    "dataframe = pd.DataFrame(data=data)\n",
    "\n",
    "# Save dataframe into csv file\n",
    "dataframe.to_csv('fake_coords_MED.csv', index=False)"
   ]
  },
  {
   "cell_type": "markdown",
   "id": "a6676499-27da-44d8-825b-46d811ccf2a7",
   "metadata": {},
   "source": [
    "## Read input csv file"
   ]
  },
  {
   "cell_type": "markdown",
   "id": "ef0c2a0b-de89-4a26-9c24-08dab20237d3",
   "metadata": {},
   "source": [
    "In this notebook, we will use our previously created file with fake points. Feel free to use your own file with real coordinates of course!  \n",
    "You can download data for a timeseries between the columns `Start` and `End` or for a single date via the column `Date`, which can vary between points."
   ]
  },
  {
   "cell_type": "markdown",
   "id": "2888f89d-a88a-4291-ba06-0ecdbdd0b88b",
   "metadata": {},
   "source": [
    "<div class=\"alert alert-block alert-warning\">\n",
    "<b>Warning:</b> names of the columns hey must be the same as the dataframe we are using here.<br/>\n",
    "    You can rename your columns via: <code>df = df.rename(columns={\"A\": \"a\", \"B\": \"c\"})</code>\n",
    "</div>"
   ]
  },
  {
   "cell_type": "code",
   "execution_count": 4,
   "id": "196715f7-24b9-4b1d-8a92-926e14e17d35",
   "metadata": {},
   "outputs": [
    {
     "data": {
      "text/html": [
       "<div>\n",
       "<style scoped>\n",
       "    .dataframe tbody tr th:only-of-type {\n",
       "        vertical-align: middle;\n",
       "    }\n",
       "\n",
       "    .dataframe tbody tr th {\n",
       "        vertical-align: top;\n",
       "    }\n",
       "\n",
       "    .dataframe thead th {\n",
       "        text-align: right;\n",
       "    }\n",
       "</style>\n",
       "<table border=\"1\" class=\"dataframe\">\n",
       "  <thead>\n",
       "    <tr style=\"text-align: right;\">\n",
       "      <th></th>\n",
       "      <th>Latitude</th>\n",
       "      <th>Longitude</th>\n",
       "      <th>Start</th>\n",
       "      <th>End</th>\n",
       "      <th>Depth</th>\n",
       "      <th>Date</th>\n",
       "    </tr>\n",
       "  </thead>\n",
       "  <tbody>\n",
       "    <tr>\n",
       "      <th>0</th>\n",
       "      <td>40.429303</td>\n",
       "      <td>6.265790</td>\n",
       "      <td>2020-01-01</td>\n",
       "      <td>2020-12-31</td>\n",
       "      <td>1.092234</td>\n",
       "      <td>2020-01-01</td>\n",
       "    </tr>\n",
       "    <tr>\n",
       "      <th>1</th>\n",
       "      <td>40.531485</td>\n",
       "      <td>4.393940</td>\n",
       "      <td>2020-01-01</td>\n",
       "      <td>2020-12-31</td>\n",
       "      <td>0.886261</td>\n",
       "      <td>2020-01-01</td>\n",
       "    </tr>\n",
       "    <tr>\n",
       "      <th>2</th>\n",
       "      <td>40.082421</td>\n",
       "      <td>7.117325</td>\n",
       "      <td>2020-01-01</td>\n",
       "      <td>2020-12-31</td>\n",
       "      <td>0.925198</td>\n",
       "      <td>2020-01-01</td>\n",
       "    </tr>\n",
       "    <tr>\n",
       "      <th>3</th>\n",
       "      <td>41.280656</td>\n",
       "      <td>5.336382</td>\n",
       "      <td>2020-01-01</td>\n",
       "      <td>2020-12-31</td>\n",
       "      <td>0.314112</td>\n",
       "      <td>2020-01-01</td>\n",
       "    </tr>\n",
       "    <tr>\n",
       "      <th>4</th>\n",
       "      <td>40.723999</td>\n",
       "      <td>6.596482</td>\n",
       "      <td>2020-01-01</td>\n",
       "      <td>2020-12-31</td>\n",
       "      <td>1.898866</td>\n",
       "      <td>2020-01-01</td>\n",
       "    </tr>\n",
       "    <tr>\n",
       "      <th>5</th>\n",
       "      <td>40.307816</td>\n",
       "      <td>6.057475</td>\n",
       "      <td>2020-01-01</td>\n",
       "      <td>2020-12-31</td>\n",
       "      <td>0.756725</td>\n",
       "      <td>2020-01-01</td>\n",
       "    </tr>\n",
       "    <tr>\n",
       "      <th>6</th>\n",
       "      <td>41.198638</td>\n",
       "      <td>5.919086</td>\n",
       "      <td>2020-01-01</td>\n",
       "      <td>2020-12-31</td>\n",
       "      <td>3.357680</td>\n",
       "      <td>2020-01-01</td>\n",
       "    </tr>\n",
       "    <tr>\n",
       "      <th>7</th>\n",
       "      <td>41.701031</td>\n",
       "      <td>5.749161</td>\n",
       "      <td>2020-01-01</td>\n",
       "      <td>2020-12-31</td>\n",
       "      <td>2.516334</td>\n",
       "      <td>2020-01-01</td>\n",
       "    </tr>\n",
       "    <tr>\n",
       "      <th>8</th>\n",
       "      <td>40.467414</td>\n",
       "      <td>6.209489</td>\n",
       "      <td>2020-01-01</td>\n",
       "      <td>2020-12-31</td>\n",
       "      <td>4.077246</td>\n",
       "      <td>2020-01-01</td>\n",
       "    </tr>\n",
       "    <tr>\n",
       "      <th>9</th>\n",
       "      <td>40.888534</td>\n",
       "      <td>5.611275</td>\n",
       "      <td>2020-01-01</td>\n",
       "      <td>2020-12-31</td>\n",
       "      <td>1.854793</td>\n",
       "      <td>2020-01-01</td>\n",
       "    </tr>\n",
       "  </tbody>\n",
       "</table>\n",
       "</div>"
      ],
      "text/plain": [
       "    Latitude  Longitude      Start        End     Depth       Date\n",
       "0  40.429303   6.265790 2020-01-01 2020-12-31  1.092234 2020-01-01\n",
       "1  40.531485   4.393940 2020-01-01 2020-12-31  0.886261 2020-01-01\n",
       "2  40.082421   7.117325 2020-01-01 2020-12-31  0.925198 2020-01-01\n",
       "3  41.280656   5.336382 2020-01-01 2020-12-31  0.314112 2020-01-01\n",
       "4  40.723999   6.596482 2020-01-01 2020-12-31  1.898866 2020-01-01\n",
       "5  40.307816   6.057475 2020-01-01 2020-12-31  0.756725 2020-01-01\n",
       "6  41.198638   5.919086 2020-01-01 2020-12-31  3.357680 2020-01-01\n",
       "7  41.701031   5.749161 2020-01-01 2020-12-31  2.516334 2020-01-01\n",
       "8  40.467414   6.209489 2020-01-01 2020-12-31  4.077246 2020-01-01\n",
       "9  40.888534   5.611275 2020-01-01 2020-12-31  1.854793 2020-01-01"
      ]
     },
     "execution_count": 4,
     "metadata": {},
     "output_type": "execute_result"
    }
   ],
   "source": [
    "# Read the CSV in a pandas dataframe\n",
    "dataframe_coordinates = pd.read_csv(\"fake_coords_MED.csv\", sep = ',')\n",
    "\n",
    "# Convert columns into right format\n",
    "dataframe_coordinates[\"Date\"] = pd.to_datetime(dataframe_coordinates[\"Date\"])\n",
    "dataframe_coordinates[\"Start\"] = pd.to_datetime(dataframe_coordinates[\"Start\"])\n",
    "dataframe_coordinates[\"End\"] = pd.to_datetime(dataframe_coordinates[\"End\"])\n",
    "\n",
    "# Show dataframe\n",
    "dataframe_coordinates"
   ]
  },
  {
   "cell_type": "markdown",
   "id": "31e2b757-d302-4675-808c-e2827d3bd5cd",
   "metadata": {},
   "source": [
    "## Download parameters"
   ]
  },
  {
   "cell_type": "markdown",
   "id": "c71b96ae-f908-4269-ab17-1af41adb4c1c",
   "metadata": {},
   "source": [
    "Here are the download parameters you can modify to suit your needs. You can add more datasets to the list (but don't forget to add the same amount of output names then!):"
   ]
  },
  {
   "cell_type": "code",
   "execution_count": 5,
   "id": "0d889075-42d3-4d0f-8c7b-a31e3c01f15c",
   "metadata": {},
   "outputs": [],
   "source": [
    "# Datasets\n",
    "list_datasetID = [\n",
    "    'med-cmcc-cur-rean-d',\n",
    "]\n",
    "\n",
    "# Output names\n",
    "output_names = [\n",
    "    'current_006_004',\n",
    "]\n",
    "\n",
    "# Variables\n",
    "variables = ['uo','vo']\n",
    "\n",
    "# Output directory\n",
    "output_dir = \"Dataframes/\""
   ]
  },
  {
   "cell_type": "markdown",
   "id": "ffa2fb0e-3c01-40e1-84d9-f7e9ec64b124",
   "metadata": {},
   "source": [
    "## Download temporal points (existing column \"Date\")"
   ]
  },
  {
   "cell_type": "markdown",
   "id": "b3d2e1bb-5979-479e-82d0-f635ebb2f2c6",
   "metadata": {},
   "source": [
    "You only need to run this cell to proceed to the download of single dates:"
   ]
  },
  {
   "cell_type": "code",
   "execution_count": 6,
   "id": "296e005c-68e9-4318-b553-5a6a57c3a0af",
   "metadata": {},
   "outputs": [
    {
     "name": "stdout",
     "output_type": "stream",
     "text": [
      "INFO - 2024-01-29T11:20:20Z - Dataset version was not specified, the latest one was selected: \"202012\"\n",
      "INFO - 2024-01-29T11:20:20Z - Dataset part was not specified, the first one was selected: \"default\"\n",
      "INFO - 2024-01-29T11:20:21Z - Service was not specified, the default one was selected: \"arco-geo-series\"\n",
      "Download completed!\n",
      "CPU times: total: 1.7 s\n",
      "Wall time: 5.4 s\n"
     ]
    }
   ],
   "source": [
    "%%time\n",
    "\n",
    "# Create directory if doesn't exist\n",
    "if not os.path.exists(output_dir):\n",
    "   os.makedirs(output_dir)\n",
    "\n",
    "# Loop for datasets in list_datasetID\n",
    "for dataset_id, output_name in zip(list_datasetID, output_names):\n",
    "  \n",
    "   # Read dataset with CMC\n",
    "   dataset = copernicusmarine.open_dataset(dataset_id = dataset_id)\n",
    "  \n",
    "   # Select surface and rename dimensions\n",
    "   for coordinate in dataset.coords:\n",
    "       if coordinate=='lon':\n",
    "           dataset = dataset.rename({'lon': 'longitude'})\n",
    "       if coordinate=='lat':\n",
    "           dataset = dataset.rename({'lat': 'latitude'})\n",
    "          \n",
    "   # Sort axis that were inverted\n",
    "   dataset = sort_dimension(dataset, 'latitude')\n",
    "   dataset = sort_dimension(dataset, 'longitude')\n",
    "  \n",
    "   # Copy the input dataframe\n",
    "   dataframe_final = dataframe_coordinates.copy()\n",
    "  \n",
    "   # Download data for 3D datasets\n",
    "   if \"depth\" in dataset.dims:\n",
    "       dataframe_final = dataframe_final.assign(**{\n",
    "           var : [float(dataset[var].sel(time=row[0], depth=row[3], method=\"nearest\")\\\n",
    "                        .sel(latitude=row[1], longitude=row[2], method='nearest'))\\\n",
    "                        for row in zip(dataframe_final['Date'], dataframe_final['Latitude'], dataframe_final['Longitude'], dataframe_final[\"Depth\"])]\\\n",
    "                        for var in variables\n",
    "       })\n",
    "  \n",
    "   # Download data for 2D datasets\n",
    "   else:\n",
    "       dataframe_final= dataframe_final.assign(**{\n",
    "           var : [float(dataset[var].sel(time=row[0], method=\"nearest\")\\\n",
    "                        .sel(latitude=row[1], longitude=row[2], method='nearest'))\\\n",
    "                        for row in zip(dataframe_final['Date'], dataframe_final['Latitude'], dataframe_final['Longitude'])]\\\n",
    "                        for var in variables                     \n",
    "       })\n",
    "  \n",
    "   # Add the corresponding date from the dataset (for checking purpose)\n",
    "   dataframe_final= dataframe_final.assign(**{\n",
    "       \"Date_dataset\" : [ dataset.sel(time=date, method=\"nearest\").time.values for date in dataframe_final['Date'] ]\n",
    "       })\n",
    "  \n",
    "   # Save the dataframe with downloaded variable(s)\n",
    "   dataframe_final.to_csv(output_dir + output_name + \"_temporal_points.csv\")\n",
    "\n",
    "print(\"Download completed!\")"
   ]
  },
  {
   "cell_type": "markdown",
   "id": "af51cccb-c32f-43ca-ab7b-13555bb8be84",
   "metadata": {},
   "source": [
    "## Download timeseries (existing columns \"Start\" and \"End\")"
   ]
  },
  {
   "cell_type": "markdown",
   "id": "ea894081-870b-40cb-b5db-52f7faf30373",
   "metadata": {},
   "source": [
    "You only need to run this cell to proceed to the download of timeseries:"
   ]
  },
  {
   "cell_type": "code",
   "execution_count": 7,
   "id": "71641fd0-6c92-4261-8e44-73c6957f0463",
   "metadata": {},
   "outputs": [
    {
     "name": "stdout",
     "output_type": "stream",
     "text": [
      "INFO - 2024-01-29T11:20:25Z - Dataset version was not specified, the latest one was selected: \"202012\"\n",
      "INFO - 2024-01-29T11:20:25Z - Dataset part was not specified, the first one was selected: \"default\"\n",
      "INFO - 2024-01-29T11:20:26Z - Service was not specified, the default one was selected: \"arco-geo-series\"\n",
      "Download completed!\n",
      "CPU times: total: 20.4 s\n",
      "Wall time: 2min 21s\n"
     ]
    }
   ],
   "source": [
    "%%time\n",
    "\n",
    "# Create directory if doesn't exist\n",
    "if not os.path.exists(output_dir):\n",
    "   os.makedirs(output_dir)\n",
    "  \n",
    "# Loop for datasets in list_datasetID\n",
    "for datset_id, output_name in zip(list_datasetID, output_names):\n",
    "\n",
    "   # Read dataset with CMC\n",
    "   dataset = copernicusmarine.open_dataset(dataset_id = dataset_id)\n",
    "  \n",
    "   # Select surface and rename dimensions\n",
    "   for coordinate in dataset.coords:\n",
    "       if coordinate=='lon':\n",
    "           dataset = dataset.rename({'lon': 'longitude'})\n",
    "       if coordinate=='lat':\n",
    "           dataset = dataset.rename({'lat': 'latitude'})\n",
    "          \n",
    "   # Sort axis that were inverted\n",
    "   dataset = sort_dimension(dataset, 'latitude')\n",
    "   dataset = sort_dimension(dataset, 'longitude')\n",
    "  \n",
    "   # Download data for 3D datasets\n",
    "   if \"depth\" in dataset.dims:\n",
    "       for row in zip(dataframe_coordinates['Start'], dataframe_coordinates['End'], dataframe_coordinates['Latitude'], dataframe_coordinates['Longitude'], dataframe_coordinates[\"Depth\"], dataframe_coordinates.index):\n",
    "           # Do the subset\n",
    "           dataset_point = dataset[variables].sel(time=slice(row[0],row[1])).sel(latitude=row[2], longitude=row[3], depth=row[4], method=\"nearest\")\n",
    "           # Save in .csv\n",
    "           dataset_point.to_dataframe().to_csv(output_dir + output_name + f\"point_{row[5]}.csv\")\n",
    "           # Save in .nc\n",
    "           #dataset_point.to_netcdf(output_dir + output_name + f\"point_{row[5]}.nc\")\n",
    "  \n",
    "   # Download data for 2D datasets\n",
    "   else:\n",
    "       for row in zip(dataframe_coordinates['Start'], dataframe_coordinates['End'], dataframe_coordinates['Latitude'], dataframe_coordinates['Longitude'], dataframe_coordinates.index):\n",
    "           # Do the subset\n",
    "           dataset_point = dataset[variables].sel(time=slice(row[0],row[1])).sel(latitude=row[2], longitude=row[3], method=\"nearest\")\n",
    "           # Save in .csv\n",
    "           dataset_point.to_dataframe().to_csv(output_dir + output_name + f\"point_{row[5]}.csv\")\n",
    "           # Save in .nc\n",
    "           #dataset_point.to_netcdf(output_dir + output_name + f\"point_{row[5]}.nc\")\n",
    "\n",
    "print(\"Download completed!\")"
   ]
  },
  {
   "cell_type": "markdown",
   "id": "cafc5c4c-001c-45ec-9010-e1271f9a9482",
   "metadata": {},
   "source": [
    "## Conclusion"
   ]
  },
  {
   "cell_type": "markdown",
   "id": "441205e0-50dd-4834-9381-10f05d5a6521",
   "metadata": {},
   "source": [
    "<div class=\"alert alert-block alert-success\">\n",
    "    <b>CONGRATULATIONS!</b><br>\n",
    "\n",
    "You have downloaded the variable(s) you were looking for! 😃   \n",
    "    \n",
    "That's it for this tutorial! Don't hesitate to [contact the Copernicus Support](https://marine.copernicus.eu/contact) in case you have any trouble or question about this notebook.  \n",
    "We would also be happy to get feedback from you about how we could improve this tutorial, if you managed to follow it all along and so on 😊   \n",
    "    \n",
    "You can find all the articles regarding the Copernicus Marine Client [in this page](https://help.marine.copernicus.eu/en/collections/4060068-copernicus-marine-client) and especially other useful [Use Cases](https://help.marine.copernicus.eu/en/collections/4062677-use-cases) using this tool.\n",
    "</div>"
   ]
  },
  {
   "cell_type": "markdown",
   "id": "183897c0-0ce2-47b8-ae21-16796cd8a68a",
   "metadata": {},
   "source": [
    "***"
   ]
  },
  {
   "cell_type": "markdown",
   "id": "fca93b30-6d30-47a6-b659-0e0c72010c0a",
   "metadata": {},
   "source": [
    "## Work environment"
   ]
  },
  {
   "cell_type": "markdown",
   "id": "a9c9cf69-68f5-4a49-8682-6836eefa085d",
   "metadata": {},
   "source": [
    "Environment where this notebook was run:\n",
    "\n",
    "- copernicusmarine    1.0.0\n",
    "- pandas              2.2.0\n",
    "- session_info        1.0.0\n",
    "- xarray              2024.1.1\n",
    "\n",
    "Last run: 2024-01-29."
   ]
  },
  {
   "cell_type": "code",
   "execution_count": 8,
   "id": "ffe0b571-d910-43fc-a9ec-49200bf409e8",
   "metadata": {},
   "outputs": [
    {
     "data": {
      "text/html": [
       "<details>\n",
       "<summary>Click to view session information</summary>\n",
       "<pre>\n",
       "-----\n",
       "copernicusmarine    1.0.0\n",
       "pandas              2.2.0\n",
       "session_info        1.0.0\n",
       "xarray              2024.1.1\n",
       "-----\n",
       "</pre>\n",
       "<details>\n",
       "<summary>Click to view modules imported as dependencies</summary>\n",
       "<pre>\n",
       "aiohttp                     3.9.1\n",
       "aiosignal                   1.3.1\n",
       "anyio                       NA\n",
       "arrow                       1.3.0\n",
       "asciitree                   NA\n",
       "asttokens                   NA\n",
       "attr                        23.2.0\n",
       "attrs                       23.2.0\n",
       "babel                       2.14.0\n",
       "backcall                    0.2.0\n",
       "boto3                       1.34.26\n",
       "botocore                    1.34.26\n",
       "brotli                      1.1.0\n",
       "cachier                     2.2.2\n",
       "certifi                     2023.11.17\n",
       "cftime                      1.6.3\n",
       "charset_normalizer          3.3.2\n",
       "click                       8.1.7\n",
       "cloudpickle                 3.0.0\n",
       "colorama                    0.4.6\n",
       "comm                        0.1.3\n",
       "cython_runtime              NA\n",
       "dask                        2024.1.0\n",
       "dateutil                    2.8.2\n",
       "debugpy                     1.6.7\n",
       "decorator                   5.1.1\n",
       "executing                   1.2.0\n",
       "fasteners                   0.19\n",
       "fastjsonschema              NA\n",
       "fqdn                        NA\n",
       "frozenlist                  1.4.1\n",
       "fsspec                      2023.12.2\n",
       "idna                        3.6\n",
       "importlib_metadata          NA\n",
       "ipykernel                   6.23.0\n",
       "ipywidgets                  8.1.1\n",
       "isoduration                 NA\n",
       "jedi                        0.18.2\n",
       "jinja2                      3.1.3\n",
       "jmespath                    1.0.1\n",
       "json5                       NA\n",
       "jsonpointer                 2.4\n",
       "jsonschema                  4.21.1\n",
       "jsonschema_specifications   NA\n",
       "jupyter_events              0.9.0\n",
       "jupyter_server              2.12.5\n",
       "jupyterlab_server           2.25.2\n",
       "lxml                        5.1.0\n",
       "markupsafe                  2.1.4\n",
       "multidict                   6.0.4\n",
       "nbformat                    5.9.2\n",
       "nest_asyncio                NA\n",
       "ntsecuritycon               NA\n",
       "numcodecs                   0.12.1\n",
       "numpy                       1.26.3\n",
       "overrides                   NA\n",
       "packaging                   23.2\n",
       "parso                       0.8.3\n",
       "pickleshare                 0.7.5\n",
       "pkg_resources               NA\n",
       "platformdirs                3.5.0\n",
       "portalocker                 2.8.2\n",
       "prometheus_client           NA\n",
       "prompt_toolkit              3.0.38\n",
       "psutil                      5.9.5\n",
       "pure_eval                   0.2.2\n",
       "pyarrow                     14.0.2\n",
       "pydap                       NA\n",
       "pydev_ipython               NA\n",
       "pydevconsole                NA\n",
       "pydevd                      2.9.5\n",
       "pydevd_file_utils           NA\n",
       "pydevd_plugins              NA\n",
       "pydevd_tracing              NA\n",
       "pygments                    2.15.1\n",
       "pystac                      1.9.0\n",
       "pythoncom                   NA\n",
       "pythonjsonlogger            NA\n",
       "pytz                        2023.3.post1\n",
       "pywintypes                  NA\n",
       "referencing                 NA\n",
       "requests                    2.31.0\n",
       "rfc3339_validator           0.1.4\n",
       "rfc3986_validator           0.1.1\n",
       "rpds                        NA\n",
       "semver                      3.0.2\n",
       "send2trash                  NA\n",
       "six                         1.16.0\n",
       "sniffio                     1.3.0\n",
       "socks                       1.7.1\n",
       "stack_data                  0.6.2\n",
       "tlz                         0.12.1\n",
       "toolz                       0.12.1\n",
       "tornado                     6.3.1\n",
       "tqdm                        4.66.1\n",
       "traitlets                   5.9.0\n",
       "uri_template                NA\n",
       "urllib3                     2.0.7\n",
       "watchdog                    NA\n",
       "wcwidth                     0.2.6\n",
       "webcolors                   1.13\n",
       "webob                       NA\n",
       "websocket                   1.7.0\n",
       "win32api                    NA\n",
       "win32com                    NA\n",
       "win32con                    NA\n",
       "win32file                   NA\n",
       "win32security               NA\n",
       "win32trace                  NA\n",
       "winerror                    NA\n",
       "yaml                        6.0.1\n",
       "yarl                        1.9.4\n",
       "zarr                        2.16.1\n",
       "zipp                        NA\n",
       "zmq                         25.0.2\n",
       "</pre>\n",
       "</details> <!-- seems like this ends pre, so might as well be explicit -->\n",
       "<pre>\n",
       "-----\n",
       "IPython             8.13.2\n",
       "jupyter_client      8.2.0\n",
       "jupyter_core        5.3.0\n",
       "jupyterlab          4.0.11\n",
       "notebook            7.0.7\n",
       "-----\n",
       "Python 3.11.7 | packaged by conda-forge | (main, Dec 23 2023, 14:27:59) [MSC v.1937 64 bit (AMD64)]\n",
       "Windows-10-10.0.22621-SP0\n",
       "-----\n",
       "Session information updated at 2024-01-29 12:22\n",
       "</pre>\n",
       "</details>"
      ],
      "text/plain": [
       "<IPython.core.display.HTML object>"
      ]
     },
     "execution_count": 8,
     "metadata": {},
     "output_type": "execute_result"
    }
   ],
   "source": [
    "# You can use this package to get information on your environment\n",
    "# You can install it via mamba install session-info\n",
    "import session_info\n",
    "session_info.show()"
   ]
  }
 ],
 "metadata": {
  "kernelspec": {
   "display_name": "cmc_1.0",
   "language": "python",
   "name": "cmc_1.0"
  },
  "language_info": {
   "codemirror_mode": {
    "name": "ipython",
    "version": 3
   },
   "file_extension": ".py",
   "mimetype": "text/x-python",
   "name": "python",
   "nbconvert_exporter": "python",
   "pygments_lexer": "ipython3",
   "version": "3.11.7"
  }
 },
 "nbformat": 4,
 "nbformat_minor": 5
}
